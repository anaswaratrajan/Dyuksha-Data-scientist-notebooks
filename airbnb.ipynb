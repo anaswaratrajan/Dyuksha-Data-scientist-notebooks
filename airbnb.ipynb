{
  "nbformat": 4,
  "nbformat_minor": 0,
  "metadata": {
    "colab": {
      "name": "airbnb.ipynb",
      "provenance": [],
      "collapsed_sections": [],
      "authorship_tag": "ABX9TyPg9j5DLenD9+zOy3hbTIww",
      "include_colab_link": true
    },
    "kernelspec": {
      "name": "python3",
      "display_name": "Python 3"
    },
    "accelerator": "GPU"
  },
  "cells": [
    {
      "cell_type": "markdown",
      "metadata": {
        "id": "view-in-github",
        "colab_type": "text"
      },
      "source": [
        "<a href=\"https://colab.research.google.com/github/anaswaratrajan/Dyuksha-Data-scientist-notebooks/blob/master/airbnb.ipynb\" target=\"_parent\"><img src=\"https://colab.research.google.com/assets/colab-badge.svg\" alt=\"Open In Colab\"/></a>"
      ]
    },
    {
      "cell_type": "code",
      "metadata": {
        "id": "lx9mZ1yXOujV",
        "colab_type": "code",
        "outputId": "3ff79b2a-b5ad-40dd-dfff-c1b940785173",
        "colab": {
          "base_uri": "https://localhost:8080/",
          "height": 156
        }
      },
      "source": [
        "from google.colab import drive\n",
        "drive.mount('/content/drive')\n",
        "import pandas as pd\n",
        "import numpy as np\n",
        "from sklearn.metrics import mean_absolute_error\n",
        "\n",
        "data = pd.read_csv(\"/content/drive/My Drive/DataScientist/airbnb/train.csv\", parse_dates=['last_review'])\n",
        "test_data = pd.read_csv(\"/content/drive/My Drive/DataScientist/airbnb/test.csv\", parse_dates=['last_review'])\n",
        "\n",
        "#Data cleaning\n",
        "#dropping\n",
        "test_data = test_data.drop('Unnamed: 0', axis=1)\n",
        "test_data = test_data.drop('Unnamed: 16', axis=1)\n",
        "test_data = test_data.drop('latitude', axis=1) #\n",
        "test_data = test_data.drop('longitude', axis=1) #\n",
        "#test_data = test_data.drop('id', axis=1)\n",
        "test_data = test_data.drop('host_id', axis=1)\n",
        "test_data = test_data.drop('host_name', axis=1)\n",
        "#test_data = test_data.drop('minimum_nights', axis=1) ###\n",
        "test_data = test_data.drop('name', axis=1)\n",
        "test_data = test_data.drop('last_review', axis=1)\n",
        "test_data = test_data.drop('reviews_per_month', axis=1) ### add later ##\n",
        "#test_data = test_data.drop('neighbourhood', axis=1)\n",
        "#test_data = test_data.drop('availability_365', axis=1)\n",
        "\n",
        "\n",
        "data = data.drop('Unnamed: 0', axis=1)\n",
        "data = data.drop('host_id', axis=1)\n",
        "#data = data.drop('id', axis=1)\n",
        "data = data.drop('latitude', axis=1) #\n",
        "data = data.drop('longitude', axis=1) #\n",
        "data = data.drop('host_name', axis=1)\n",
        "#data = data.drop('minimum_nights', axis=1) ###\n",
        "data = data.drop('Unnamed: 17', axis=1)\n",
        "data = data.drop('Unnamed: 18', axis=1)\n",
        "data = data.drop('Unnamed: 19', axis=1)\n",
        "data = data.drop('reviews_per_month', axis=1) ### add later ##\n",
        "data = data.drop('last_review', axis=1) # work on it later : date ##\n",
        "data = data.drop('name', axis=1)\n",
        "#data = data.drop('neighbourhood', axis=1)\n",
        "#data = data.drop('availability_365', axis=1)\n",
        "\n",
        "\n",
        "#dropping rows\n",
        "data = data[data['price']!='Entire home/apt']\n",
        "data = data[data['price']!='Private room']\n",
        "data = data[data['price']!='Private room']\n",
        "data = data[data['number_of_reviews']!='Private room']\n",
        "test_data.loc[test_data['number_of_reviews']=='Private room', ['number_of_reviews']] = 0\n",
        "#test_data = test_data[test_data['reviews_per_month']!='Private room']\n",
        "\n",
        "test_data.loc[test_data['minimum_nights']=='Private room', ['minimum_nights']] = 0\n",
        "\n",
        "data['price'] = pd.to_numeric(data['price'])\n",
        "data['minimum_nights'] = pd.to_numeric(data['minimum_nights'])\n",
        "test_data['minimum_nights'] = pd.to_numeric(test_data['minimum_nights'])\n",
        "data['number_of_reviews'] = pd.to_numeric(data['number_of_reviews'])\n",
        "test_data['number_of_reviews'] = pd.to_numeric(test_data['number_of_reviews'])\n",
        "#data['reviews_per_month'] = pd.to_numeric(data['reviews_per_month'])\n",
        "#test_data['reviews_per_month'] = pd.to_numeric(test_data['reviews_per_month'])\n",
        "data['availability_365'] = pd.to_numeric(data['availability_365'])\n",
        "test_data['availability_365'] = pd.to_numeric(test_data['availability_365'])\n",
        "\n",
        "\n",
        "data['availability_365'] = data['availability_365'].astype(np.float64)\n",
        "data['minimum_nights'] = data['minimum_nights'].astype(np.int64)\n",
        "\n",
        "#data['last_review'] = pd.to_datetime(data['last_review'], format='%Y-%m-%d')\n",
        "#test_data['last_review'] = pd.to_datetime(test_data['last_review'], format='%Y-%m-%d', errors='coerce')\n",
        "#  4/wgE2t_sUQq1XzithN03rUfheME5CuopQVC_pGt8yoBVE9u_V3vK1tI0"
      ],
      "execution_count": 0,
      "outputs": [
        {
          "output_type": "stream",
          "text": [
            "Go to this URL in a browser: https://accounts.google.com/o/oauth2/auth?client_id=947318989803-6bn6qk8qdgf4n4g3pfee6491hc0brc4i.apps.googleusercontent.com&redirect_uri=urn%3aietf%3awg%3aoauth%3a2.0%3aoob&response_type=code&scope=email%20https%3a%2f%2fwww.googleapis.com%2fauth%2fdocs.test%20https%3a%2f%2fwww.googleapis.com%2fauth%2fdrive%20https%3a%2f%2fwww.googleapis.com%2fauth%2fdrive.photos.readonly%20https%3a%2f%2fwww.googleapis.com%2fauth%2fpeopleapi.readonly\n",
            "\n",
            "Enter your authorization code:\n",
            "··········\n",
            "Mounted at /content/drive\n"
          ],
          "name": "stdout"
        },
        {
          "output_type": "stream",
          "text": [
            "/usr/local/lib/python3.6/dist-packages/pandas/core/ops/__init__.py:1115: FutureWarning: elementwise comparison failed; returning scalar instead, but in the future will perform elementwise comparison\n",
            "  result = method(y)\n"
          ],
          "name": "stderr"
        }
      ]
    },
    {
      "cell_type": "code",
      "metadata": {
        "id": "hbshMG5Uw9sA",
        "colab_type": "code",
        "colab": {}
      },
      "source": [
        "#test_data.assign(n=0).groupby(['last_review']).n.count()"
      ],
      "execution_count": 0,
      "outputs": []
    },
    {
      "cell_type": "code",
      "metadata": {
        "id": "sN8fGeAyqk8C",
        "colab_type": "code",
        "colab": {}
      },
      "source": [
        "categorical = ['neighbourhood_group', 'room_type','neighbourhood']"
      ],
      "execution_count": 0,
      "outputs": []
    },
    {
      "cell_type": "code",
      "metadata": {
        "id": "HsX-BVLrdSwD",
        "colab_type": "code",
        "colab": {}
      },
      "source": [
        "print(data.dtypes)\n",
        "print(\"\\n\")\n",
        "print(test_data.dtypes)"
      ],
      "execution_count": 0,
      "outputs": []
    },
    {
      "cell_type": "code",
      "metadata": {
        "id": "fspflE9NYMN8",
        "colab_type": "code",
        "colab": {}
      },
      "source": [
        "\n",
        "from sklearn.preprocessing import LabelEncoder\n",
        "\n",
        "#label_test_data = label_test_data.drop('class', axis=1)\n",
        "# Make copy to avoid changing original data \n",
        "label_data = data.copy()\n",
        "label_test_data = test_data.copy()\n",
        "\n",
        "# Apply label encoder to each column with categorical data\n",
        "label_encoder = LabelEncoder()\n",
        "for col in categorical:\n",
        "    label_data[col] = label_encoder.fit_transform(data[col])\n",
        "    label_test_data[col] = label_encoder.fit_transform(test_data[col])\n",
        "\n",
        "X = label_data.drop('price', axis=1)\n",
        "X = label_data.drop('id', axis=1)\n",
        "y = label_data['price']"
      ],
      "execution_count": 0,
      "outputs": []
    },
    {
      "cell_type": "code",
      "metadata": {
        "id": "2vRwjLyAvqT4",
        "colab_type": "code",
        "colab": {}
      },
      "source": [
        "label_data.head()"
      ],
      "execution_count": 0,
      "outputs": []
    },
    {
      "cell_type": "code",
      "metadata": {
        "id": "b5D8_qxNzRfQ",
        "colab_type": "code",
        "colab": {}
      },
      "source": [
        "label_test_data.head()"
      ],
      "execution_count": 0,
      "outputs": []
    },
    {
      "cell_type": "code",
      "metadata": {
        "id": "_NcMw1x9W-gH",
        "colab_type": "code",
        "outputId": "3e2d9d74-5416-444d-b706-4cfde977a114",
        "colab": {
          "base_uri": "https://localhost:8080/",
          "height": 34
        }
      },
      "source": [
        "from sklearn.model_selection import train_test_split\n",
        "from sklearn.ensemble import RandomForestRegressor\n",
        "\n",
        "X_train, X_test, y_train, y_test = train_test_split(X, y, test_size=0.33, random_state=7)\n",
        "\n",
        "model = RandomForestRegressor()\n",
        "model.fit(X_train,y_train)\n",
        "\n",
        "pred = model.predict(X_test)\n",
        "mean_absolute_error(pred, y_test)"
      ],
      "execution_count": 0,
      "outputs": [
        {
          "output_type": "execute_result",
          "data": {
            "text/plain": [
              "0.5240224545102593"
            ]
          },
          "metadata": {
            "tags": []
          },
          "execution_count": 6
        }
      ]
    },
    {
      "cell_type": "code",
      "metadata": {
        "id": "29Vsl2p7CJ9w",
        "colab_type": "code",
        "outputId": "3e117cc8-e3d8-48c2-a07f-ef182f9055b6",
        "colab": {
          "base_uri": "https://localhost:8080/",
          "height": 34
        }
      },
      "source": [
        "from sklearn.model_selection import train_test_split\n",
        "from sklearn.ensemble import RandomForestRegressor\n",
        "\n",
        "X_train, X_test, y_train, y_test = train_test_split(X, y, test_size=0.33, random_state=7)\n",
        "\n",
        "model = RandomForestRegressor(n_estimators = 30 )\n",
        "model.fit(X_train,y_train)\n",
        "\n",
        "pred = model.predict(X_test)\n",
        "mean_absolute_error(pred, y_test)"
      ],
      "execution_count": 0,
      "outputs": [
        {
          "output_type": "execute_result",
          "data": {
            "text/plain": [
              "0.5016002064782551"
            ]
          },
          "metadata": {
            "tags": []
          },
          "execution_count": 9
        }
      ]
    },
    {
      "cell_type": "code",
      "metadata": {
        "id": "GTS2_rX9gCxW",
        "colab_type": "code",
        "colab": {}
      },
      "source": [
        "#n_estimators=30"
      ],
      "execution_count": 0,
      "outputs": []
    },
    {
      "cell_type": "code",
      "metadata": {
        "id": "JWUzfDuPxLMM",
        "colab_type": "code",
        "outputId": "473ecfa8-0709-4808-9197-3393b9223d34",
        "colab": {
          "base_uri": "https://localhost:8080/",
          "height": 34
        }
      },
      "source": [
        "m4"
      ],
      "execution_count": 0,
      "outputs": [
        {
          "output_type": "execute_result",
          "data": {
            "text/plain": [
              "0.6723519163763066"
            ]
          },
          "metadata": {
            "tags": []
          },
          "execution_count": 12
        }
      ]
    },
    {
      "cell_type": "code",
      "metadata": {
        "id": "tPSh0Bo4fOMg",
        "colab_type": "code",
        "colab": {}
      },
      "source": [
        "rf = RandomForestRegressor(random_state=42)\n",
        "rf.fit(X_train, y_train)\n",
        "\n",
        "pred = rf.predict(X_test)\n",
        "mean_absolute_error(pred, y_test)"
      ],
      "execution_count": 0,
      "outputs": []
    },
    {
      "cell_type": "code",
      "metadata": {
        "id": "URPRYBqSffwK",
        "colab_type": "code",
        "colab": {}
      },
      "source": [
        "from pprint import pprint\n",
        "\n",
        "print('Parameters currently in use:\\n')\n",
        "pprint(rf.get_params())"
      ],
      "execution_count": 0,
      "outputs": []
    },
    {
      "cell_type": "code",
      "metadata": {
        "id": "hPPBItbyrOiF",
        "colab_type": "code",
        "colab": {}
      },
      "source": [
        "rf_random.best_params_"
      ],
      "execution_count": 0,
      "outputs": []
    },
    {
      "cell_type": "code",
      "metadata": {
        "id": "nXUY9F9vsn7W",
        "colab_type": "code",
        "colab": {}
      },
      "source": [
        " #Get numerical feature importances\n",
        "list(rf.feature_importances_)\n"
      ],
      "execution_count": 0,
      "outputs": []
    },
    {
      "cell_type": "code",
      "metadata": {
        "id": "qSUiw7d5rVyr",
        "colab_type": "code",
        "colab": {}
      },
      "source": [
        "def evaluate(model, test_features, test_labels):\n",
        "    predictions = model.predict(test_features)\n",
        "    errors = abs(predictions - test_labels)\n",
        "    mape = 100 * np.mean(errors / test_labels)\n",
        "    accuracy = 100 - mape\n",
        "    print('Model Performance')\n",
        "    print('Average Error: {:0.4f} degrees.'.format(np.mean(errors)))\n",
        "    print('Accuracy = {:0.2f}%.'.format(accuracy))\n",
        "    \n",
        "    return accuracy"
      ],
      "execution_count": 0,
      "outputs": []
    },
    {
      "cell_type": "code",
      "metadata": {
        "id": "idHsdL2DrfrB",
        "colab_type": "code",
        "colab": {}
      },
      "source": [
        "base_model = RandomForestRegressor(n_estimators = 10, random_state = 42)\n",
        "base_model.fit(X_train, y_train)\n",
        "base_accuracy = evaluate(base_model, X_train, y_train)"
      ],
      "execution_count": 0,
      "outputs": []
    },
    {
      "cell_type": "code",
      "metadata": {
        "id": "Z5iD8W_ts_4b",
        "colab_type": "code",
        "colab": {}
      },
      "source": [
        "import numpy as np\n",
        "from sklearn.model_selection import GridSearchCV\n",
        "\n",
        "\n",
        "if __name__ == '__main__':\n",
        "\n",
        "    X_train, X_test, y_train, y_test = train_test_split(\n",
        "        X, y, test_size=0.5, random_state=1)\n",
        "\n",
        "    # Set the parameters by cross-validation\n",
        "    tuned_parameters = {'n_estimators': [500, 700, 1000], 'max_depth': [None, 1, 2, 3], 'min_samples_split': [1, 2, 3]}\n",
        "\n",
        "    clf = GridSearchCV(RandomForestRegressor(), tuned_parameters, cv=5, n_jobs=-1, verbose=1)\n",
        "    clf.fit(X_train, y_train)\n",
        "    print(clf.best_estimator_)"
      ],
      "execution_count": 0,
      "outputs": []
    },
    {
      "cell_type": "code",
      "metadata": {
        "id": "89qbPXyvr1GF",
        "colab_type": "code",
        "colab": {}
      },
      "source": [
        "final_model = RandomForestRegressor(bootstrap=True, ccp_alpha=0.0, criterion='mse',\n",
        "                      max_depth=None, max_features='auto', max_leaf_nodes=None,\n",
        "                      max_samples=None, min_impurity_decrease=0.0,\n",
        "                      min_impurity_split=None, min_samples_leaf=1,\n",
        "                      min_samples_split=2, min_weight_fraction_leaf=0.0,\n",
        "                      n_estimators=1000, n_jobs=None, oob_score=False,\n",
        "                      random_state=None, verbose=0, warm_start=False)\n",
        "final_model.fit(X_train, y_train)\n",
        "\n",
        "pred = final_model.predict(X_test)\n",
        "mean_absolute_error(pred, y_test)"
      ],
      "execution_count": 0,
      "outputs": []
    },
    {
      "cell_type": "code",
      "metadata": {
        "id": "DWDq5k92wa3T",
        "colab_type": "code",
        "colab": {}
      },
      "source": [
        "final_model = RandomForestRegressor(n_estimators =72, random_state = 42)\n",
        "final_model.fit(X_train, y_train)\n",
        "\n",
        "pred = final_model.predict(X_test)\n",
        "mean_absolute_error(pred, y_test)"
      ],
      "execution_count": 0,
      "outputs": []
    },
    {
      "cell_type": "code",
      "metadata": {
        "id": "R9FMiXc3BBn3",
        "colab_type": "code",
        "colab": {}
      },
      "source": [
        "final_model = RandomForestRegressor(n_estimators =50, random_state = 42)\n",
        "final_model.fit(X_train, y_train)\n",
        "\n",
        "pred = final_model.predict(X_test)\n",
        "mean_absolute_error(pred, y_test)"
      ],
      "execution_count": 0,
      "outputs": []
    },
    {
      "cell_type": "code",
      "metadata": {
        "id": "FcWkWW67BG1Q",
        "colab_type": "code",
        "colab": {}
      },
      "source": [
        "final_model = RandomForestRegressor(n_estimators =30, random_state = 42)#, max_depth = 20)\n",
        "final_model.fit(X_train, y_train)\n",
        "\n",
        "pred = final_model.predict(X_test)\n",
        "mean_absolute_error(pred, y_test)"
      ],
      "execution_count": 0,
      "outputs": []
    },
    {
      "cell_type": "code",
      "metadata": {
        "id": "LfivWHBOEJ6_",
        "colab_type": "code",
        "colab": {}
      },
      "source": [
        "final_model = RandomForestRegressor(n_estimators =30, random_state = 42, max_depth = 20)\n",
        "final_model.fit(X_train, y_train)\n",
        "\n",
        "pred = final_model.predict(X_test)\n",
        "mean_absolute_error(pred, y_test)"
      ],
      "execution_count": 0,
      "outputs": []
    },
    {
      "cell_type": "code",
      "metadata": {
        "id": "iOsZbx9bxCWS",
        "colab_type": "code",
        "colab": {}
      },
      "source": [
        "X = label_data.drop('price', axis=1)\n",
        "y = label_data['price']"
      ],
      "execution_count": 0,
      "outputs": []
    },
    {
      "cell_type": "code",
      "metadata": {
        "id": "3DbhEXsdwmtk",
        "colab_type": "code",
        "colab": {}
      },
      "source": [
        "final_model.fit(X,y)"
      ],
      "execution_count": 0,
      "outputs": []
    },
    {
      "cell_type": "code",
      "metadata": {
        "id": "gr42K03jHeJp",
        "colab_type": "code",
        "colab": {}
      },
      "source": [
        "label_data.iloc[27]"
      ],
      "execution_count": 0,
      "outputs": []
    },
    {
      "cell_type": "code",
      "metadata": {
        "id": "qhe2XlKhG76W",
        "colab_type": "code",
        "colab": {}
      },
      "source": [
        "data.iloc[27]"
      ],
      "execution_count": 0,
      "outputs": []
    },
    {
      "cell_type": "code",
      "metadata": {
        "id": "o-fSQQqIE2uX",
        "colab_type": "code",
        "colab": {}
      },
      "source": [
        "data[(data['neighbourhood_group']=='Charlottenburg-Wilm.')]# & (data['room_type']==0)]"
      ],
      "execution_count": 0,
      "outputs": []
    },
    {
      "cell_type": "code",
      "metadata": {
        "id": "KtTKtLg3FJx-",
        "colab_type": "code",
        "colab": {}
      },
      "source": [
        "label_data[label_data['neighbourhood_group']==2]"
      ],
      "execution_count": 0,
      "outputs": []
    },
    {
      "cell_type": "code",
      "metadata": {
        "id": "V-LdA_DLEv1a",
        "colab_type": "code",
        "colab": {}
      },
      "source": [
        "test_data.head()"
      ],
      "execution_count": 0,
      "outputs": []
    },
    {
      "cell_type": "code",
      "metadata": {
        "id": "Yq2ZOv1HEXH4",
        "colab_type": "code",
        "colab": {}
      },
      "source": [
        "label_test_data.head()"
      ],
      "execution_count": 0,
      "outputs": []
    },
    {
      "cell_type": "code",
      "metadata": {
        "id": "YpU6JCy2Ebfc",
        "colab_type": "code",
        "colab": {}
      },
      "source": [
        "imputer_test_data.head()"
      ],
      "execution_count": 0,
      "outputs": []
    },
    {
      "cell_type": "code",
      "metadata": {
        "id": "0RUmS2kOEmO-",
        "colab_type": "code",
        "colab": {}
      },
      "source": [
        "imputer_test_data.assign(n=0).groupby(['availability_365']).n.count()"
      ],
      "execution_count": 0,
      "outputs": []
    },
    {
      "cell_type": "code",
      "metadata": {
        "id": "9O8o1j3J0M2I",
        "colab_type": "code",
        "colab": {}
      },
      "source": [
        "test_data.head()"
      ],
      "execution_count": 0,
      "outputs": []
    },
    {
      "cell_type": "code",
      "metadata": {
        "id": "riSYf8mL0dWl",
        "colab_type": "code",
        "colab": {}
      },
      "source": [
        "test_data.columns[test_data.isnull().any()]"
      ],
      "execution_count": 0,
      "outputs": []
    },
    {
      "cell_type": "code",
      "metadata": {
        "id": "HNlgPAU5xNvC",
        "colab_type": "code",
        "colab": {}
      },
      "source": [
        "## Imputation\n",
        "from sklearn.impute import SimpleImputer\n",
        "\n",
        "# Imputation\n",
        "my_imputer = SimpleImputer()\n",
        "imputer_test_data = pd.DataFrame(my_imputer.fit_transform(label_test_data))\n",
        "\n",
        "# Imputation removed column names; put them back\n",
        "imputer_test_data.columns = label_test_data.columns"
      ],
      "execution_count": 0,
      "outputs": []
    },
    {
      "cell_type": "code",
      "metadata": {
        "id": "LVF9JX2N0Eqi",
        "colab_type": "code",
        "colab": {}
      },
      "source": [
        "imputer_test_data.to_numpy()"
      ],
      "execution_count": 0,
      "outputs": []
    },
    {
      "cell_type": "code",
      "metadata": {
        "id": "4oEVXqbazYb9",
        "colab_type": "code",
        "colab": {}
      },
      "source": [
        "final_model = RandomForestRegressor(bootstrap=True, ccp_alpha=0.0, criterion='mse',\n",
        "                      max_depth=None, max_features='auto', max_leaf_nodes=None,\n",
        "                      max_samples=None, min_impurity_decrease=0.0,\n",
        "                      min_impurity_split=None, min_samples_leaf=1,\n",
        "                      min_samples_split=2, min_weight_fraction_leaf=0.0,\n",
        "                      n_estimators=1000, n_jobs=None, oob_score=False,\n",
        "                      random_state=None, verbose=0, warm_start=False)\n",
        "final_model.fit(X, y)\n",
        "\n",
        "predictions = final_model.predict(imputer_test_data)\n",
        "#mean_absolute_error(pred, y_test)"
      ],
      "execution_count": 0,
      "outputs": []
    },
    {
      "cell_type": "code",
      "metadata": {
        "id": "gaNGlmHHzrf-",
        "colab_type": "code",
        "colab": {}
      },
      "source": [
        ""
      ],
      "execution_count": 0,
      "outputs": []
    },
    {
      "cell_type": "code",
      "metadata": {
        "id": "o4QwgXbuw0Pr",
        "colab_type": "code",
        "colab": {}
      },
      "source": [
        "#predictions = final_model.predict(imputer_test_data)"
      ],
      "execution_count": 0,
      "outputs": []
    },
    {
      "cell_type": "code",
      "metadata": {
        "id": "IIhZmp-ZwBe1",
        "colab_type": "code",
        "colab": {}
      },
      "source": [
        "\n",
        "id = test_data['id']\n",
        "\n",
        "submit=pd.DataFrame({'id': id, 'price': predictions})\n",
        "#submit = submit.sort_values(by=['id'])\n",
        "submit.to_csv('submit.csv', index=False)"
      ],
      "execution_count": 0,
      "outputs": []
    },
    {
      "cell_type": "code",
      "metadata": {
        "id": "NbeKGfnJ2cgP",
        "colab_type": "code",
        "colab": {}
      },
      "source": [
        "data.head()"
      ],
      "execution_count": 0,
      "outputs": []
    },
    {
      "cell_type": "code",
      "metadata": {
        "id": "9YOhsKyvomvv",
        "colab_type": "code",
        "colab": {}
      },
      "source": [
        "model.feature_importances_"
      ],
      "execution_count": 0,
      "outputs": []
    }
  ]
}