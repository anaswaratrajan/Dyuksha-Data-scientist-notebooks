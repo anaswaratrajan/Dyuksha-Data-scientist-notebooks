{
  "nbformat": 4,
  "nbformat_minor": 0,
  "metadata": {
    "colab": {
      "name": "beer.ipynb",
      "provenance": [],
      "collapsed_sections": [],
      "authorship_tag": "ABX9TyMWVlr2iwCRr0jhs5cSOJvn",
      "include_colab_link": true
    },
    "kernelspec": {
      "name": "python3",
      "display_name": "Python 3"
    },
    "accelerator": "GPU"
  },
  "cells": [
    {
      "cell_type": "markdown",
      "metadata": {
        "id": "view-in-github",
        "colab_type": "text"
      },
      "source": [
        "<a href=\"https://colab.research.google.com/github/anaswaratrajan/Dyuksha-Data-scientist-notebooks/blob/master/beer.ipynb\" target=\"_parent\"><img src=\"https://colab.research.google.com/assets/colab-badge.svg\" alt=\"Open In Colab\"/></a>"
      ]
    },
    {
      "cell_type": "code",
      "metadata": {
        "id": "mGVmyA9BLxMn",
        "colab_type": "code",
        "outputId": "769202a2-c5c0-4a3e-9005-ca26e203c03e",
        "colab": {
          "base_uri": "https://localhost:8080/",
          "height": 122
        }
      },
      "source": [
        "from google.colab import drive\n",
        "drive.mount('/content/drive')\n",
        "\n",
        "import pandas as pd\n",
        "from sklearn.ensemble import RandomForestRegressor\n",
        "\n",
        "data = pd.read_csv(\"/content/drive/My Drive/DataScientist/beer_train.csv\")\n",
        "pred_X_test = pd.read_csv(\"/content/drive/My Drive/DataScientist/beer/test.csv\")\n",
        "\n",
        "#data.assign(n=0).groupby(['Style']).n.count()\n",
        "#data.assign(n=0).groupby(['SugarScale']).n.count()\n",
        "#data.assign(n=0).groupby(['BrewMethod']).n.count()"
      ],
      "execution_count": 0,
      "outputs": [
        {
          "output_type": "stream",
          "text": [
            "Go to this URL in a browser: https://accounts.google.com/o/oauth2/auth?client_id=947318989803-6bn6qk8qdgf4n4g3pfee6491hc0brc4i.apps.googleusercontent.com&redirect_uri=urn%3aietf%3awg%3aoauth%3a2.0%3aoob&response_type=code&scope=email%20https%3a%2f%2fwww.googleapis.com%2fauth%2fdocs.test%20https%3a%2f%2fwww.googleapis.com%2fauth%2fdrive%20https%3a%2f%2fwww.googleapis.com%2fauth%2fdrive.photos.readonly%20https%3a%2f%2fwww.googleapis.com%2fauth%2fpeopleapi.readonly\n",
            "\n",
            "Enter your authorization code:\n",
            "··········\n",
            "Mounted at /content/drive\n"
          ],
          "name": "stdout"
        }
      ]
    },
    {
      "cell_type": "code",
      "metadata": {
        "id": "KHjPcazkRkx8",
        "colab_type": "code",
        "colab": {}
      },
      "source": [
        "categorical = ['BrewMethod','SugarScale','Style']\n",
        "\n",
        "\n",
        "####################   -----------Label Encoding -----------------#########################\n",
        "\n",
        "from sklearn.preprocessing import LabelEncoder\n",
        "\n",
        "# Make copy to avoid changing original data \n",
        "label_data = data.copy()\n",
        "label_pred_X_test = pred_X_test.copy()\n",
        "\n",
        "# Apply label encoder to each column with categorical data\n",
        "label_encoder = LabelEncoder()\n",
        "for col in categorical:\n",
        "    label_data[col] = label_encoder.fit_transform(data[col])\n",
        "\n",
        "for col in categorical[:-1]:\n",
        "    label_pred_X_test[col] = label_encoder.fit_transform(pred_X_test[col])\n",
        "\n",
        "##################-------------------  -------------\n",
        "\n",
        "X = label_data.drop('Style',axis=1)\n",
        "y = label_data['Style']\n",
        "\n",
        "from sklearn.model_selection import train_test_split\n",
        "\n",
        "X_train, X_test, y_train, y_test = train_test_split(X, y, test_size=0.33, random_state=7)\n",
        "\n",
        "\n",
        "cols_with_missing = [col for col in X_train.columns if X_train[col].isnull().any()]\n",
        "\n",
        "## Imputation\n",
        "\n",
        "from sklearn.impute import SimpleImputer\n",
        "\n",
        "# Imputation\n",
        "my_imputer = SimpleImputer()\n",
        "imputer_X_train = pd.DataFrame(my_imputer.fit_transform(X_train))\n",
        "imputer_X_test = pd.DataFrame(my_imputer.transform(X_test))\n",
        "imputer_X = pd.DataFrame(my_imputer.fit_transform(X))\n",
        "imputer_pred_X_test = pd.DataFrame(my_imputer.fit_transform(label_pred_X_test))\n",
        "\n",
        "# Imputation removed column names; put them back\n",
        "imputer_X_train.columns = X_train.columns\n",
        "imputer_X_test.columns = X_test.columns\n",
        "imputer_X.columns = X.columns\n",
        "imputer_pred_X_test.columns = label_pred_X_test.columns"
      ],
      "execution_count": 0,
      "outputs": []
    },
    {
      "cell_type": "code",
      "metadata": {
        "id": "hxBQY1_zY9m9",
        "colab_type": "code",
        "colab": {}
      },
      "source": [
        "from numpy import loadtxt\n",
        "from xgboost import XGBClassifier\n",
        "from sklearn.model_selection import train_test_split\n",
        "from sklearn.metrics import accuracy_score\n",
        "\n",
        "#X_train, X_test, y_train, y_test = train_test_split(X, y, test_size=0.33, random_state=7)\n",
        "\n",
        "model = XGBClassifier(n_estimators=700)\n",
        "model.fit(imputer_X_train, y_train)\n",
        "y_pred = model.predict(imputer_X_test)\n",
        "pred = [round(value) for value in y_pred]"
      ],
      "execution_count": 0,
      "outputs": []
    },
    {
      "cell_type": "code",
      "metadata": {
        "id": "5YGNYGAfcXmy",
        "colab_type": "code",
        "outputId": "44451b51-3fcd-4168-92ac-6cb9f4773e9d",
        "colab": {
          "base_uri": "https://localhost:8080/",
          "height": 34
        }
      },
      "source": [
        "accuracy_score(y_test, pred)"
      ],
      "execution_count": 0,
      "outputs": [
        {
          "output_type": "execute_result",
          "data": {
            "text/plain": [
              "0.6358599848904558"
            ]
          },
          "metadata": {
            "tags": []
          },
          "execution_count": 4
        }
      ]
    },
    {
      "cell_type": "code",
      "metadata": {
        "id": "HMcQ4d8SPNjU",
        "colab_type": "code",
        "colab": {}
      },
      "source": [
        "submit=pd.DataFrame({'Id': id, 'class': predictions})\n",
        "submit = submit.sort_values(by=['Id'])\n",
        "submit.to_csv('submit.csv', index=False)"
      ],
      "execution_count": 0,
      "outputs": []
    },
    {
      "cell_type": "code",
      "metadata": {
        "id": "5rvgPti0Jdg2",
        "colab_type": "code",
        "colab": {}
      },
      "source": [
        "eval_set = [(X_test, y_test)]\n",
        "model.fit(imputer_X_train, y_train, eval_metric=\"merror\", eval_set=eval_set, verbose=True)"
      ],
      "execution_count": 0,
      "outputs": []
    },
    {
      "cell_type": "code",
      "metadata": {
        "id": "UiyksvxsKuqM",
        "colab_type": "code",
        "outputId": "5d34adf3-c5f5-4571-aa92-7489541188ec",
        "colab": {
          "base_uri": "https://localhost:8080/",
          "height": 34
        }
      },
      "source": [
        "#Manually checking random values\n",
        "final_model = XGBClassifier(base_score=0.5, booster='gbtree', colsample_bylevel=1,\n",
        "              colsample_bynode=1, colsample_bytree=1, gamma=0,\n",
        "              learning_rate=0.1, max_delta_step=0, max_depth=3,\n",
        "              min_child_weight=1, missing=None, n_estimators=600, n_jobs=1,\n",
        "              nthread=None, objective='multi:softmax', random_state=0,\n",
        "              reg_alpha=0, reg_lambda=1, scale_pos_weight=1, seed=None,\n",
        "              silent=None, subsample=1, verbosity=1)\n",
        "\n",
        "final_model.fit(imputer_X_train, y_train)\n",
        "pred = final_model.predict(imputer_X_test)\n",
        "\n",
        "accuracy_score(y_test, pred)"
      ],
      "execution_count": 0,
      "outputs": [
        {
          "output_type": "execute_result",
          "data": {
            "text/plain": [
              "0.6348526819440947"
            ]
          },
          "metadata": {
            "tags": []
          },
          "execution_count": 4
        }
      ]
    },
    {
      "cell_type": "code",
      "metadata": {
        "id": "V-2uuqd7JSBt",
        "colab_type": "code",
        "outputId": "5c4f5985-4c3a-4339-dece-cae5a513e394",
        "colab": {
          "base_uri": "https://localhost:8080/",
          "height": 34
        }
      },
      "source": [
        "final_model = XGBClassifier(base_score=0.5, booster='gbtree', colsample_bylevel=1,\n",
        "              colsample_bynode=1, colsample_bytree=1, gamma=0,\n",
        "              learning_rate=0.1, max_delta_step=0, max_depth=3,\n",
        "              min_child_weight=1, missing=None, n_estimators=500, n_jobs=1,\n",
        "              nthread=None, objective='multi:softmax', random_state=0,\n",
        "              reg_alpha=0, reg_lambda=1, scale_pos_weight=1, seed=None,\n",
        "              silent=None, subsample=1, verbosity=1)\n",
        "\n",
        "final_model.fit(imputer_X_train, y_train)\n",
        "pred = final_model.predict(imputer_X_test)\n",
        "\n",
        "accuracy_score(y_test, pred)"
      ],
      "execution_count": 0,
      "outputs": [
        {
          "output_type": "execute_result",
          "data": {
            "text/plain": [
              "0.6366154621002267"
            ]
          },
          "metadata": {
            "tags": []
          },
          "execution_count": 13
        }
      ]
    },
    {
      "cell_type": "code",
      "metadata": {
        "id": "FfcvittRKZ6y",
        "colab_type": "code",
        "outputId": "7f185ca7-bbd7-417e-9cea-59f38d2be93f",
        "colab": {
          "base_uri": "https://localhost:8080/",
          "height": 34
        }
      },
      "source": [
        "final_model = XGBClassifier(base_score=0.5, booster='gbtree', colsample_bylevel=1,\n",
        "              colsample_bynode=1, colsample_bytree=1, gamma=0,\n",
        "              learning_rate=0.1, max_delta_step=0, max_depth=3,\n",
        "              min_child_weight=1, missing=None, n_estimators=300, n_jobs=1,\n",
        "              nthread=None, objective='multi:softmax', random_state=0,\n",
        "              reg_alpha=0, reg_lambda=1, scale_pos_weight=1, seed=None,\n",
        "              silent=None, subsample=1, verbosity=1)\n",
        "\n",
        "final_model.fit(imputer_X_train, y_train)\n",
        "pred = final_model.predict(imputer_X_test)\n",
        "\n",
        "accuracy_score(y_test, pred)"
      ],
      "execution_count": 0,
      "outputs": [
        {
          "output_type": "execute_result",
          "data": {
            "text/plain": [
              "0.6376227650465878"
            ]
          },
          "metadata": {
            "tags": []
          },
          "execution_count": 14
        }
      ]
    },
    {
      "cell_type": "code",
      "metadata": {
        "id": "TEGaeJYQWbkE",
        "colab_type": "code",
        "colab": {}
      },
      "source": [
        "pred = pd.Dataframe"
      ],
      "execution_count": 0,
      "outputs": []
    },
    {
      "cell_type": "code",
      "metadata": {
        "id": "Oanq8QVKPfMY",
        "colab_type": "code",
        "colab": {}
      },
      "source": [
        "final_model = XGBClassifier(base_score=0.5, booster='gbtree', colsample_bylevel=1,\n",
        "              colsample_bynode=1, colsample_bytree=1, gamma=0,\n",
        "              learning_rate=0.1, max_delta_step=0, max_depth=3,\n",
        "              min_child_weight=1, missing=None, n_estimators=700, n_jobs=1,\n",
        "              nthread=None, objective='multi:softmax', random_state=0,\n",
        "              reg_alpha=0, reg_lambda=1, scale_pos_weight=1, seed=None,\n",
        "              silent=None, subsample=1, verbosity=1)\n",
        "\n",
        "final_model.fit(imputer_X, y)\n",
        "\n",
        "pred = final_model.predict(imputer_pred_X_test)\n",
        "\n",
        "#   .groupby(df['author'])"
      ],
      "execution_count": 0,
      "outputs": []
    },
    {
      "cell_type": "code",
      "metadata": {
        "id": "qNvz6gjyMNIa",
        "colab_type": "code",
        "colab": {}
      },
      "source": [
        "final_model.fit(imputer_X, y)\n",
        "\n",
        "pred = final_model.predict(imputer_pred_X_test)"
      ],
      "execution_count": 0,
      "outputs": []
    },
    {
      "cell_type": "code",
      "metadata": {
        "id": "TILLGEjvY6HF",
        "colab_type": "code",
        "colab": {}
      },
      "source": [
        "df = data\n",
        "df.drop_duplicates('Style')"
      ],
      "execution_count": 0,
      "outputs": []
    },
    {
      "cell_type": "code",
      "metadata": {
        "id": "gBhqkknBYcim",
        "colab_type": "code",
        "colab": {}
      },
      "source": [
        "import numpy as np\n",
        "# :/  Alternative inverse transform\n",
        "predict = []\n",
        "for i in range(len(pred)):\n",
        "  if pred[i]==0:\n",
        "    predict.append('American Amber Ale')\n",
        "  elif pred[i]==1:\n",
        "    predict.append('American Brown Ale')\n",
        "  elif pred[i]==2:\n",
        "    predict.append('American IPA')\n",
        "  elif pred[i]==3:\n",
        "    predict.append('American Light Lager')\n",
        "  elif pred[i]==4:\n",
        "    predict.append('American Pale Ale')\n",
        "  elif pred[i]==5:\n",
        "    predict.append('American Stout')\n",
        "  elif pred[i]==6:\n",
        "    predict.append('Blonde Ale')\n",
        "  elif pred[i]==7:\n",
        "    predict.append('Imperial IPA')\n",
        "  elif pred[i]==8:\n",
        "    predict.append('Irish Red Ale')\n",
        "  elif pred[i]==9:\n",
        "    predict.append('Saison')\n",
        "  elif pred[i]==10:\n",
        "    predict.append('Witbier')\n",
        "\n",
        "predictions = np.array(predict)"
      ],
      "execution_count": 0,
      "outputs": []
    },
    {
      "cell_type": "code",
      "metadata": {
        "id": "0o6sNA4XRc-i",
        "colab_type": "code",
        "colab": {}
      },
      "source": [
        "id = pred_X_test['Id']\n",
        "submit=pd.DataFrame({'Id': id, 'Style': predictions})"
      ],
      "execution_count": 0,
      "outputs": []
    },
    {
      "cell_type": "code",
      "metadata": {
        "id": "I3C_i5NiRey5",
        "colab_type": "code",
        "colab": {}
      },
      "source": [
        "label_encoder.inverse_transform(predictions)"
      ],
      "execution_count": 0,
      "outputs": []
    },
    {
      "cell_type": "code",
      "metadata": {
        "id": "l2J3UiK1Powp",
        "colab_type": "code",
        "colab": {}
      },
      "source": [
        "pred = final_model.predict(imputer_pred_X_test)"
      ],
      "execution_count": 0,
      "outputs": []
    },
    {
      "cell_type": "code",
      "metadata": {
        "id": "Scs2-ayzUoHo",
        "colab_type": "code",
        "colab": {}
      },
      "source": [
        "data.assign(n=0).groupby(['Style']).n.count() #Imbalanced?"
      ],
      "execution_count": 0,
      "outputs": []
    },
    {
      "cell_type": "code",
      "metadata": {
        "id": "5fd1gyhcQ3Nk",
        "colab_type": "code",
        "colab": {}
      },
      "source": [
        "id = pd.to_numeric(data['price'])"
      ],
      "execution_count": 0,
      "outputs": []
    },
    {
      "cell_type": "code",
      "metadata": {
        "id": "ruhMgx2bLQxx",
        "colab_type": "code",
        "colab": {}
      },
      "source": [
        "model.feature_importances_"
      ],
      "execution_count": 0,
      "outputs": []
    },
    {
      "cell_type": "code",
      "metadata": {
        "id": "mvwbMxIhLiJR",
        "colab_type": "code",
        "colab": {}
      },
      "source": [
        "from xgboost import plot_importance\n",
        "import matplotlib.pyplot as plt\n",
        "\n",
        "plot_importance(model)\n",
        "plt.show()"
      ],
      "execution_count": 0,
      "outputs": []
    },
    {
      "cell_type": "code",
      "metadata": {
        "id": "4E6JElsaLlm9",
        "colab_type": "code",
        "colab": {}
      },
      "source": [
        "#XGBClassifier() grid search\n",
        "\n",
        "\n",
        "from sklearn.model_selection import GridSearchCV\n",
        "from sklearn.model_selection import StratifiedKFold\n",
        "\n",
        "n_estimators = [10,20,40,80,100]\n",
        "max_depth = [2, 4, 6, 8]\n",
        "parameter_grid = dict(max_depth=max_depth, n_estimators=n_estimators)\n",
        "kfold = StratifiedKFold(n_splits=5, shuffle=True, random_state=7)\n",
        "grid_search = GridSearchCV(model, parameter_grid, scoring=\"neg_log_loss\", n_jobs=-1, cv=kfold)\n",
        "grid_result = grid_search.fit(imputer_X_train, y_train)"
      ],
      "execution_count": 0,
      "outputs": []
    },
    {
      "cell_type": "code",
      "metadata": {
        "id": "opKP-uVlOMrY",
        "colab_type": "code",
        "colab": {}
      },
      "source": [
        "# META CODE\n",
        "from sklearn.multiclass import OneVsRestClassifier\n",
        "from xgboost import XGBClassifier\n",
        "from sklearn.preprocessing import MultiLabelBinarizer\n",
        "\n",
        "clf = OneVsRestClassifier(XGBClassifier(n_jobs=-1, max_depth=4))\n",
        "mlb = MultiLabelBinarizer()\n",
        "y_train = mlb.fit_transform(y_train)\n",
        "\n",
        "clf.fit(imputer_X_train, y_train)\n",
        "\n",
        "pred = clf.predict(imputer_X_test)\n",
        "accuracy_score(pred, y_test)"
      ],
      "execution_count": 0,
      "outputs": []
    },
    {
      "cell_type": "code",
      "metadata": {
        "id": "YyMsLu5TRFSI",
        "colab_type": "code",
        "colab": {}
      },
      "source": [
        "\n",
        "import warnings\n",
        "warnings.filterwarnings('ignore')\n",
        "import numpy as np\n",
        "import pandas as pd\n",
        "from datetime import datetime\n",
        "from sklearn.model_selection import RandomizedSearchCV, GridSearchCV\n",
        "from sklearn.metrics import roc_auc_score\n",
        "from sklearn.model_selection import StratifiedKFold\n",
        "from xgboost import XGBClassifier"
      ],
      "execution_count": 0,
      "outputs": []
    },
    {
      "cell_type": "code",
      "metadata": {
        "id": "7KLZuaC4RvCC",
        "colab_type": "code",
        "colab": {}
      },
      "source": [
        "#Submissions.csv\n",
        "\n",
        "id = pred_X_test['Id']\n",
        "submit=pd.DataFrame({'Id': id, 'Style': predictions})\n",
        "submit = submit.sort_values(by=['Id'])\n",
        "submit.to_csv('submit.csv', index=False)"
      ],
      "execution_count": 0,
      "outputs": []
    }
  ]
}