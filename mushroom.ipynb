{
  "nbformat": 4,
  "nbformat_minor": 0,
  "metadata": {
    "colab": {
      "name": "mushroom.ipynb",
      "provenance": [],
      "collapsed_sections": [],
      "toc_visible": true,
      "authorship_tag": "ABX9TyPZUIjdIHywnvaa6zOoWuvP",
      "include_colab_link": true
    },
    "kernelspec": {
      "name": "python3",
      "display_name": "Python 3"
    }
  },
  "cells": [
    {
      "cell_type": "markdown",
      "metadata": {
        "id": "view-in-github",
        "colab_type": "text"
      },
      "source": [
        "<a href=\"https://colab.research.google.com/github/anaswaratrajan/Dyuksha-Data-scientist-notebooks/blob/master/mushroom.ipynb\" target=\"_parent\"><img src=\"https://colab.research.google.com/assets/colab-badge.svg\" alt=\"Open In Colab\"/></a>"
      ]
    },
    {
      "cell_type": "code",
      "metadata": {
        "id": "j84-WRXu_oeG",
        "colab_type": "code",
        "colab": {}
      },
      "source": [
        "from google.colab import drive\n",
        "drive.mount('/content/drive')\n",
        "import pandas as pd\n",
        "from sklearn.ensemble import RandomForestRegressor\n",
        "from sklearn.ensemble import RandomForestClassifier\n",
        "from sklearn.metrics import mean_absolute_error\n",
        "import numpy as np\n",
        "\n",
        "data = pd.read_csv(\"/content/drive/My Drive/DataScientist/train.csv\")\n",
        "test_data = pd.read_csv(\"/content/drive/My Drive/DataScientist/test2.csv\")\n",
        "\n",
        "from sklearn.preprocessing import LabelEncoder\n",
        "\n",
        "#label_test_data = label_test_data.drop('class', axis=1)\n",
        "# Make copy to avoid changing original data \n",
        "label_data = data.copy()\n",
        "label_test_data = test_data.copy()\n",
        "\n",
        "# Apply label encoder to each column with categorical data\n",
        "label_encoder = LabelEncoder()\n",
        "for col in data.columns:\n",
        "    label_data[col] = label_encoder.fit_transform(data[col])\n",
        "    if col!='class':\n",
        "      label_test_data[col] = label_encoder.fit_transform(test_data[col])\n",
        "\n",
        "X = label_data.drop('class', axis=1)\n",
        "y = label_data['class']"
      ],
      "execution_count": 0,
      "outputs": []
    },
    {
      "cell_type": "code",
      "metadata": {
        "id": "TlRuF62YLnqA",
        "colab_type": "code",
        "colab": {}
      },
      "source": [
        "data.head()"
      ],
      "execution_count": 0,
      "outputs": []
    },
    {
      "cell_type": "code",
      "metadata": {
        "id": "GovqeA2yLfAG",
        "colab_type": "code",
        "colab": {}
      },
      "source": [
        "label_data.head()"
      ],
      "execution_count": 0,
      "outputs": []
    },
    {
      "cell_type": "code",
      "metadata": {
        "id": "DhGeJZ67EHbZ",
        "colab_type": "code",
        "colab": {}
      },
      "source": [
        "data.assign(n=0).groupby(['class']).n.count()"
      ],
      "execution_count": 0,
      "outputs": []
    },
    {
      "cell_type": "code",
      "metadata": {
        "id": "djdBM2uDFiba",
        "colab_type": "code",
        "colab": {}
      },
      "source": [
        "from sklearn.model_selection import train_test_split\n",
        "\n",
        "X_train, X_test, y_train, y_test = train_test_split(X, y, test_size=0.33, random_state=7)\n",
        "\n",
        "c_model = RandomForestClassifier()\n",
        "c_model.fit(X_train,y_train)\n",
        "\n",
        "y_predict = c_model.predict(X_test)\n",
        "m1 = mean_absolute_error(y_predict, y_test)"
      ],
      "execution_count": 0,
      "outputs": []
    },
    {
      "cell_type": "code",
      "metadata": {
        "id": "lLBJI7dAGt_1",
        "colab_type": "code",
        "colab": {}
      },
      "source": [
        "#Submission\n",
        "model =  RandomForestClassifier()\n",
        "model.fit(X,y)\n",
        "pred = model.predict(label_test_data)"
      ],
      "execution_count": 0,
      "outputs": []
    },
    {
      "cell_type": "code",
      "metadata": {
        "id": "qsMKetp6Ml8o",
        "colab_type": "code",
        "colab": {}
      },
      "source": [
        "len(predict)"
      ],
      "execution_count": 0,
      "outputs": []
    },
    {
      "cell_type": "code",
      "metadata": {
        "id": "lt8ah-nwLyMJ",
        "colab_type": "code",
        "colab": {}
      },
      "source": [
        "predict = []\n",
        "for i in range(len(pred)):\n",
        "  if pred[i]==0:\n",
        "    predict.append('e')\n",
        "  elif pred[i]==1:\n",
        "    predict.append('p')"
      ],
      "execution_count": 0,
      "outputs": []
    },
    {
      "cell_type": "code",
      "metadata": {
        "id": "zjmwl13SMViI",
        "colab_type": "code",
        "colab": {}
      },
      "source": [
        "predictions = np.array(predict)"
      ],
      "execution_count": 0,
      "outputs": []
    },
    {
      "cell_type": "code",
      "metadata": {
        "id": "HWr-qMixMds4",
        "colab_type": "code",
        "colab": {}
      },
      "source": [
        "predictions"
      ],
      "execution_count": 0,
      "outputs": []
    },
    {
      "cell_type": "code",
      "metadata": {
        "id": "szpBkM-6JqeZ",
        "colab_type": "code",
        "colab": {}
      },
      "source": [
        "l = [i for i in range(1,201)]\n",
        "id = np.array(l)"
      ],
      "execution_count": 0,
      "outputs": []
    },
    {
      "cell_type": "code",
      "metadata": {
        "id": "trux_BAbSMbu",
        "colab_type": "code",
        "colab": {}
      },
      "source": [
        "submit=pd.DataFrame({'Id': id, 'class': predictions})\n",
        "submit = submit.sort_values(by=['Id'])\n",
        "submit.to_csv('submit.csv', index=False)"
      ],
      "execution_count": 0,
      "outputs": []
    }
  ]
}